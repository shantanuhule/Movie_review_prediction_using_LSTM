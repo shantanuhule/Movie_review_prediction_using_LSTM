{
  "nbformat": 4,
  "nbformat_minor": 0,
  "metadata": {
    "colab": {
      "provenance": []
    },
    "kernelspec": {
      "name": "python3",
      "display_name": "Python 3"
    },
    "language_info": {
      "name": "python"
    },
    "accelerator": "GPU",
    "gpuClass": "standard"
  },
  "cells": [
    {
      "cell_type": "code",
      "execution_count": 31,
      "metadata": {
        "id": "eBESuNnhk_6D"
      },
      "outputs": [],
      "source": [
        "import pandas as pd\n",
        "import tensorflow as tf\n",
        "import numpy as np"
      ]
    },
    {
      "cell_type": "code",
      "source": [
        "tweets=pd.read_csv('/content/imdb_10K_sentimnets_reviews.csv')"
      ],
      "metadata": {
        "id": "5u-TpIt7lE6G"
      },
      "execution_count": 2,
      "outputs": []
    },
    {
      "cell_type": "code",
      "source": [
        "tweets.head()"
      ],
      "metadata": {
        "colab": {
          "base_uri": "https://localhost:8080/",
          "height": 206
        },
        "id": "jQGF4ErymHbk",
        "outputId": "72436ae2-8904-4bfd-f6bf-89f8070d3c6f"
      },
      "execution_count": 3,
      "outputs": [
        {
          "output_type": "execute_result",
          "data": {
            "text/plain": [
              "                                              review  sentiment\n",
              "0  Okay, I know this does'nt project India in a g...          1\n",
              "1  Despite John Travolta's statements in intervie...          0\n",
              "2  I am a kung fu fan, but not a Woo fan. I have ...          1\n",
              "3  He seems to be a control freak. I have heard h...          0\n",
              "4  Admittedly, there are some scenes in this movi...          1"
            ],
            "text/html": [
              "\n",
              "  <div id=\"df-62d95a76-88b9-46a2-b49c-72f3913f97d2\">\n",
              "    <div class=\"colab-df-container\">\n",
              "      <div>\n",
              "<style scoped>\n",
              "    .dataframe tbody tr th:only-of-type {\n",
              "        vertical-align: middle;\n",
              "    }\n",
              "\n",
              "    .dataframe tbody tr th {\n",
              "        vertical-align: top;\n",
              "    }\n",
              "\n",
              "    .dataframe thead th {\n",
              "        text-align: right;\n",
              "    }\n",
              "</style>\n",
              "<table border=\"1\" class=\"dataframe\">\n",
              "  <thead>\n",
              "    <tr style=\"text-align: right;\">\n",
              "      <th></th>\n",
              "      <th>review</th>\n",
              "      <th>sentiment</th>\n",
              "    </tr>\n",
              "  </thead>\n",
              "  <tbody>\n",
              "    <tr>\n",
              "      <th>0</th>\n",
              "      <td>Okay, I know this does'nt project India in a g...</td>\n",
              "      <td>1</td>\n",
              "    </tr>\n",
              "    <tr>\n",
              "      <th>1</th>\n",
              "      <td>Despite John Travolta's statements in intervie...</td>\n",
              "      <td>0</td>\n",
              "    </tr>\n",
              "    <tr>\n",
              "      <th>2</th>\n",
              "      <td>I am a kung fu fan, but not a Woo fan. I have ...</td>\n",
              "      <td>1</td>\n",
              "    </tr>\n",
              "    <tr>\n",
              "      <th>3</th>\n",
              "      <td>He seems to be a control freak. I have heard h...</td>\n",
              "      <td>0</td>\n",
              "    </tr>\n",
              "    <tr>\n",
              "      <th>4</th>\n",
              "      <td>Admittedly, there are some scenes in this movi...</td>\n",
              "      <td>1</td>\n",
              "    </tr>\n",
              "  </tbody>\n",
              "</table>\n",
              "</div>\n",
              "      <button class=\"colab-df-convert\" onclick=\"convertToInteractive('df-62d95a76-88b9-46a2-b49c-72f3913f97d2')\"\n",
              "              title=\"Convert this dataframe to an interactive table.\"\n",
              "              style=\"display:none;\">\n",
              "        \n",
              "  <svg xmlns=\"http://www.w3.org/2000/svg\" height=\"24px\"viewBox=\"0 0 24 24\"\n",
              "       width=\"24px\">\n",
              "    <path d=\"M0 0h24v24H0V0z\" fill=\"none\"/>\n",
              "    <path d=\"M18.56 5.44l.94 2.06.94-2.06 2.06-.94-2.06-.94-.94-2.06-.94 2.06-2.06.94zm-11 1L8.5 8.5l.94-2.06 2.06-.94-2.06-.94L8.5 2.5l-.94 2.06-2.06.94zm10 10l.94 2.06.94-2.06 2.06-.94-2.06-.94-.94-2.06-.94 2.06-2.06.94z\"/><path d=\"M17.41 7.96l-1.37-1.37c-.4-.4-.92-.59-1.43-.59-.52 0-1.04.2-1.43.59L10.3 9.45l-7.72 7.72c-.78.78-.78 2.05 0 2.83L4 21.41c.39.39.9.59 1.41.59.51 0 1.02-.2 1.41-.59l7.78-7.78 2.81-2.81c.8-.78.8-2.07 0-2.86zM5.41 20L4 18.59l7.72-7.72 1.47 1.35L5.41 20z\"/>\n",
              "  </svg>\n",
              "      </button>\n",
              "      \n",
              "  <style>\n",
              "    .colab-df-container {\n",
              "      display:flex;\n",
              "      flex-wrap:wrap;\n",
              "      gap: 12px;\n",
              "    }\n",
              "\n",
              "    .colab-df-convert {\n",
              "      background-color: #E8F0FE;\n",
              "      border: none;\n",
              "      border-radius: 50%;\n",
              "      cursor: pointer;\n",
              "      display: none;\n",
              "      fill: #1967D2;\n",
              "      height: 32px;\n",
              "      padding: 0 0 0 0;\n",
              "      width: 32px;\n",
              "    }\n",
              "\n",
              "    .colab-df-convert:hover {\n",
              "      background-color: #E2EBFA;\n",
              "      box-shadow: 0px 1px 2px rgba(60, 64, 67, 0.3), 0px 1px 3px 1px rgba(60, 64, 67, 0.15);\n",
              "      fill: #174EA6;\n",
              "    }\n",
              "\n",
              "    [theme=dark] .colab-df-convert {\n",
              "      background-color: #3B4455;\n",
              "      fill: #D2E3FC;\n",
              "    }\n",
              "\n",
              "    [theme=dark] .colab-df-convert:hover {\n",
              "      background-color: #434B5C;\n",
              "      box-shadow: 0px 1px 3px 1px rgba(0, 0, 0, 0.15);\n",
              "      filter: drop-shadow(0px 1px 2px rgba(0, 0, 0, 0.3));\n",
              "      fill: #FFFFFF;\n",
              "    }\n",
              "  </style>\n",
              "\n",
              "      <script>\n",
              "        const buttonEl =\n",
              "          document.querySelector('#df-62d95a76-88b9-46a2-b49c-72f3913f97d2 button.colab-df-convert');\n",
              "        buttonEl.style.display =\n",
              "          google.colab.kernel.accessAllowed ? 'block' : 'none';\n",
              "\n",
              "        async function convertToInteractive(key) {\n",
              "          const element = document.querySelector('#df-62d95a76-88b9-46a2-b49c-72f3913f97d2');\n",
              "          const dataTable =\n",
              "            await google.colab.kernel.invokeFunction('convertToInteractive',\n",
              "                                                     [key], {});\n",
              "          if (!dataTable) return;\n",
              "\n",
              "          const docLinkHtml = 'Like what you see? Visit the ' +\n",
              "            '<a target=\"_blank\" href=https://colab.research.google.com/notebooks/data_table.ipynb>data table notebook</a>'\n",
              "            + ' to learn more about interactive tables.';\n",
              "          element.innerHTML = '';\n",
              "          dataTable['output_type'] = 'display_data';\n",
              "          await google.colab.output.renderOutput(dataTable, element);\n",
              "          const docLink = document.createElement('div');\n",
              "          docLink.innerHTML = docLinkHtml;\n",
              "          element.appendChild(docLink);\n",
              "        }\n",
              "      </script>\n",
              "    </div>\n",
              "  </div>\n",
              "  "
            ]
          },
          "metadata": {},
          "execution_count": 3
        }
      ]
    },
    {
      "cell_type": "code",
      "source": [
        "len(tweets[tweets['sentiment']==1]),len(tweets[tweets['sentiment']==0])"
      ],
      "metadata": {
        "colab": {
          "base_uri": "https://localhost:8080/"
        },
        "id": "mQJpvXU0rkb2",
        "outputId": "43c62d48-5457-4694-fbca-58ef66ad3efc"
      },
      "execution_count": 9,
      "outputs": [
        {
          "output_type": "execute_result",
          "data": {
            "text/plain": [
              "(5037, 4963)"
            ]
          },
          "metadata": {},
          "execution_count": 9
        }
      ]
    },
    {
      "cell_type": "code",
      "source": [
        "import nltk \n",
        "from nltk.corpus import stopwords\n",
        "from nltk.stem import PorterStemmer\n",
        "from nltk.tokenize import TweetTokenizer\n",
        "import string \n",
        "import re\n",
        "     "
      ],
      "metadata": {
        "id": "yrHE05LrmI3W"
      },
      "execution_count": 10,
      "outputs": []
    },
    {
      "cell_type": "code",
      "source": [
        "import nltk\n",
        "nltk.download('stopwords')"
      ],
      "metadata": {
        "colab": {
          "base_uri": "https://localhost:8080/"
        },
        "id": "dSHJkzDqmO1y",
        "outputId": "6e7284e4-76cb-4ca5-d77c-a6f4e34a6dae"
      },
      "execution_count": 11,
      "outputs": [
        {
          "output_type": "stream",
          "name": "stderr",
          "text": [
            "[nltk_data] Downloading package stopwords to /root/nltk_data...\n",
            "[nltk_data]   Unzipping corpora/stopwords.zip.\n"
          ]
        },
        {
          "output_type": "execute_result",
          "data": {
            "text/plain": [
              "True"
            ]
          },
          "metadata": {},
          "execution_count": 11
        }
      ]
    },
    {
      "cell_type": "code",
      "source": [
        "#process tweets\n",
        "def process_tweet(tweet):\n",
        "    stemmer=PorterStemmer()\n",
        "    stopwords_english = stopwords.words('english') #stopwords english\n",
        "    \n",
        "    #removing all hashtags ,hyperlinks\n",
        "    tweet = re.sub(r'$\\w*', '', tweet)\n",
        "    tweet = re.sub(r'^RT[\\s]+', '', tweet)\n",
        "    tweet = re.sub(r'https?:\\/\\/.*[\\r\\n]*', '', tweet)\n",
        "    tweet = re.sub(r'#', '', tweet)\n",
        "    \n",
        "    tokenizer=TweetTokenizer(preserve_case=False, strip_handles=True,reduce_len=True)\n",
        "    tweet_tokens=tokenizer.tokenize(tweet) #tokenize\n",
        "    \n",
        "    tweets_clean=[]\n",
        "    \n",
        "    #removing stopwords, removing punctuation and then stemming the word\n",
        "    for word in tweet_tokens:\n",
        "        if (word not in stopwords_english and word not in string.punctuation):   \n",
        "            stem_word=stemmer.stem(word)\n",
        "            tweets_clean.append(stem_word)\n",
        "            \n",
        "    return tweets_clean"
      ],
      "metadata": {
        "id": "0RP-3Nv8mSJd"
      },
      "execution_count": 12,
      "outputs": []
    },
    {
      "cell_type": "code",
      "source": [
        "from keras.preprocessing.text import Tokenizer\n",
        "from keras.utils import pad_sequences\n",
        "from keras.models import Sequential\n",
        "from keras.layers import Dense, Embedding, LSTM\n"
      ],
      "metadata": {
        "id": "MWiq0IlgmlNA"
      },
      "execution_count": 13,
      "outputs": []
    },
    {
      "cell_type": "code",
      "source": [
        "\n",
        "#creating vocablory \n",
        "vocab=[]\n",
        "for tweet in tweets.review:\n",
        "  for word in process_tweet(tweet):\n",
        "    if word not in vocab:\n",
        "      vocab.append(word)\n"
      ],
      "metadata": {
        "id": "8ZCnGybqmo0T"
      },
      "execution_count": 14,
      "outputs": []
    },
    {
      "cell_type": "code",
      "source": [
        "print(\"length of vocab:\",len(vocab))"
      ],
      "metadata": {
        "colab": {
          "base_uri": "https://localhost:8080/"
        },
        "id": "pZv8b1zenA1D",
        "outputId": "97dc0b5b-67a0-49b8-affd-4838c3c25dc0"
      },
      "execution_count": 15,
      "outputs": [
        {
          "output_type": "stream",
          "name": "stdout",
          "text": [
            "length of vocab: 48970\n"
          ]
        }
      ]
    },
    {
      "cell_type": "code",
      "source": [
        "\n",
        "#process tweet\n",
        "processed_tweet=[]\n",
        "for t in tweets.review:\n",
        "  p_t=process_tweet(t)\n",
        "  processed_tweet.append(p_t)"
      ],
      "metadata": {
        "id": "XDcRZtX1nRVX"
      },
      "execution_count": 16,
      "outputs": []
    },
    {
      "cell_type": "code",
      "source": [
        "tweets['p_tweet']=processed_tweet\n",
        "tweets"
      ],
      "metadata": {
        "id": "0lN2OcPSoYql",
        "colab": {
          "base_uri": "https://localhost:8080/",
          "height": 424
        },
        "outputId": "5170951a-10e1-4e2f-d3ad-e693acb3c0e0"
      },
      "execution_count": 17,
      "outputs": [
        {
          "output_type": "execute_result",
          "data": {
            "text/plain": [
              "                                                 review  sentiment  \\\n",
              "0     Okay, I know this does'nt project India in a g...          1   \n",
              "1     Despite John Travolta's statements in intervie...          0   \n",
              "2     I am a kung fu fan, but not a Woo fan. I have ...          1   \n",
              "3     He seems to be a control freak. I have heard h...          0   \n",
              "4     Admittedly, there are some scenes in this movi...          1   \n",
              "...                                                 ...        ...   \n",
              "9995  A masterpiece.<br /><br />Thus it is, possibly...          1   \n",
              "9996  Great movie about a great man. Thomas Kretschm...          1   \n",
              "9997  Before we start, may I say I hope you've alrea...          0   \n",
              "9998  I was so disappointed by this show. After hear...          0   \n",
              "9999  The 3-D featured in \"The Man Who Wasn't There\"...          0   \n",
              "\n",
              "                                                p_tweet  \n",
              "0     [okay, know, does'nt, project, india, good, li...  \n",
              "1     [despit, john, travolta', statement, interview...  \n",
              "2     [kung, fu, fan, woo, fan, interest, gangster, ...  \n",
              "3     [seem, control, freak, heard, comment, lose, c...  \n",
              "4     [admittedli, scene, movi, seem, littl, unreali...  \n",
              "...                                                 ...  \n",
              "9995  [masterpiec, br, br, thu, possibl, everyon, br...  \n",
              "9996  [great, movi, great, man, thoma, kretschmann, ...  \n",
              "9997  [start, may, say, hope, alreadi, eaten, read, ...  \n",
              "9998  [disappoint, show, hear, read, hoopla, ground,...  \n",
              "9999  [3, featur, man, stand, dumb, dumb, dumb, inep...  \n",
              "\n",
              "[10000 rows x 3 columns]"
            ],
            "text/html": [
              "\n",
              "  <div id=\"df-7a45d6f5-f78c-4239-9e9e-e3d2dc24e660\">\n",
              "    <div class=\"colab-df-container\">\n",
              "      <div>\n",
              "<style scoped>\n",
              "    .dataframe tbody tr th:only-of-type {\n",
              "        vertical-align: middle;\n",
              "    }\n",
              "\n",
              "    .dataframe tbody tr th {\n",
              "        vertical-align: top;\n",
              "    }\n",
              "\n",
              "    .dataframe thead th {\n",
              "        text-align: right;\n",
              "    }\n",
              "</style>\n",
              "<table border=\"1\" class=\"dataframe\">\n",
              "  <thead>\n",
              "    <tr style=\"text-align: right;\">\n",
              "      <th></th>\n",
              "      <th>review</th>\n",
              "      <th>sentiment</th>\n",
              "      <th>p_tweet</th>\n",
              "    </tr>\n",
              "  </thead>\n",
              "  <tbody>\n",
              "    <tr>\n",
              "      <th>0</th>\n",
              "      <td>Okay, I know this does'nt project India in a g...</td>\n",
              "      <td>1</td>\n",
              "      <td>[okay, know, does'nt, project, india, good, li...</td>\n",
              "    </tr>\n",
              "    <tr>\n",
              "      <th>1</th>\n",
              "      <td>Despite John Travolta's statements in intervie...</td>\n",
              "      <td>0</td>\n",
              "      <td>[despit, john, travolta', statement, interview...</td>\n",
              "    </tr>\n",
              "    <tr>\n",
              "      <th>2</th>\n",
              "      <td>I am a kung fu fan, but not a Woo fan. I have ...</td>\n",
              "      <td>1</td>\n",
              "      <td>[kung, fu, fan, woo, fan, interest, gangster, ...</td>\n",
              "    </tr>\n",
              "    <tr>\n",
              "      <th>3</th>\n",
              "      <td>He seems to be a control freak. I have heard h...</td>\n",
              "      <td>0</td>\n",
              "      <td>[seem, control, freak, heard, comment, lose, c...</td>\n",
              "    </tr>\n",
              "    <tr>\n",
              "      <th>4</th>\n",
              "      <td>Admittedly, there are some scenes in this movi...</td>\n",
              "      <td>1</td>\n",
              "      <td>[admittedli, scene, movi, seem, littl, unreali...</td>\n",
              "    </tr>\n",
              "    <tr>\n",
              "      <th>...</th>\n",
              "      <td>...</td>\n",
              "      <td>...</td>\n",
              "      <td>...</td>\n",
              "    </tr>\n",
              "    <tr>\n",
              "      <th>9995</th>\n",
              "      <td>A masterpiece.&lt;br /&gt;&lt;br /&gt;Thus it is, possibly...</td>\n",
              "      <td>1</td>\n",
              "      <td>[masterpiec, br, br, thu, possibl, everyon, br...</td>\n",
              "    </tr>\n",
              "    <tr>\n",
              "      <th>9996</th>\n",
              "      <td>Great movie about a great man. Thomas Kretschm...</td>\n",
              "      <td>1</td>\n",
              "      <td>[great, movi, great, man, thoma, kretschmann, ...</td>\n",
              "    </tr>\n",
              "    <tr>\n",
              "      <th>9997</th>\n",
              "      <td>Before we start, may I say I hope you've alrea...</td>\n",
              "      <td>0</td>\n",
              "      <td>[start, may, say, hope, alreadi, eaten, read, ...</td>\n",
              "    </tr>\n",
              "    <tr>\n",
              "      <th>9998</th>\n",
              "      <td>I was so disappointed by this show. After hear...</td>\n",
              "      <td>0</td>\n",
              "      <td>[disappoint, show, hear, read, hoopla, ground,...</td>\n",
              "    </tr>\n",
              "    <tr>\n",
              "      <th>9999</th>\n",
              "      <td>The 3-D featured in \"The Man Who Wasn't There\"...</td>\n",
              "      <td>0</td>\n",
              "      <td>[3, featur, man, stand, dumb, dumb, dumb, inep...</td>\n",
              "    </tr>\n",
              "  </tbody>\n",
              "</table>\n",
              "<p>10000 rows × 3 columns</p>\n",
              "</div>\n",
              "      <button class=\"colab-df-convert\" onclick=\"convertToInteractive('df-7a45d6f5-f78c-4239-9e9e-e3d2dc24e660')\"\n",
              "              title=\"Convert this dataframe to an interactive table.\"\n",
              "              style=\"display:none;\">\n",
              "        \n",
              "  <svg xmlns=\"http://www.w3.org/2000/svg\" height=\"24px\"viewBox=\"0 0 24 24\"\n",
              "       width=\"24px\">\n",
              "    <path d=\"M0 0h24v24H0V0z\" fill=\"none\"/>\n",
              "    <path d=\"M18.56 5.44l.94 2.06.94-2.06 2.06-.94-2.06-.94-.94-2.06-.94 2.06-2.06.94zm-11 1L8.5 8.5l.94-2.06 2.06-.94-2.06-.94L8.5 2.5l-.94 2.06-2.06.94zm10 10l.94 2.06.94-2.06 2.06-.94-2.06-.94-.94-2.06-.94 2.06-2.06.94z\"/><path d=\"M17.41 7.96l-1.37-1.37c-.4-.4-.92-.59-1.43-.59-.52 0-1.04.2-1.43.59L10.3 9.45l-7.72 7.72c-.78.78-.78 2.05 0 2.83L4 21.41c.39.39.9.59 1.41.59.51 0 1.02-.2 1.41-.59l7.78-7.78 2.81-2.81c.8-.78.8-2.07 0-2.86zM5.41 20L4 18.59l7.72-7.72 1.47 1.35L5.41 20z\"/>\n",
              "  </svg>\n",
              "      </button>\n",
              "      \n",
              "  <style>\n",
              "    .colab-df-container {\n",
              "      display:flex;\n",
              "      flex-wrap:wrap;\n",
              "      gap: 12px;\n",
              "    }\n",
              "\n",
              "    .colab-df-convert {\n",
              "      background-color: #E8F0FE;\n",
              "      border: none;\n",
              "      border-radius: 50%;\n",
              "      cursor: pointer;\n",
              "      display: none;\n",
              "      fill: #1967D2;\n",
              "      height: 32px;\n",
              "      padding: 0 0 0 0;\n",
              "      width: 32px;\n",
              "    }\n",
              "\n",
              "    .colab-df-convert:hover {\n",
              "      background-color: #E2EBFA;\n",
              "      box-shadow: 0px 1px 2px rgba(60, 64, 67, 0.3), 0px 1px 3px 1px rgba(60, 64, 67, 0.15);\n",
              "      fill: #174EA6;\n",
              "    }\n",
              "\n",
              "    [theme=dark] .colab-df-convert {\n",
              "      background-color: #3B4455;\n",
              "      fill: #D2E3FC;\n",
              "    }\n",
              "\n",
              "    [theme=dark] .colab-df-convert:hover {\n",
              "      background-color: #434B5C;\n",
              "      box-shadow: 0px 1px 3px 1px rgba(0, 0, 0, 0.15);\n",
              "      filter: drop-shadow(0px 1px 2px rgba(0, 0, 0, 0.3));\n",
              "      fill: #FFFFFF;\n",
              "    }\n",
              "  </style>\n",
              "\n",
              "      <script>\n",
              "        const buttonEl =\n",
              "          document.querySelector('#df-7a45d6f5-f78c-4239-9e9e-e3d2dc24e660 button.colab-df-convert');\n",
              "        buttonEl.style.display =\n",
              "          google.colab.kernel.accessAllowed ? 'block' : 'none';\n",
              "\n",
              "        async function convertToInteractive(key) {\n",
              "          const element = document.querySelector('#df-7a45d6f5-f78c-4239-9e9e-e3d2dc24e660');\n",
              "          const dataTable =\n",
              "            await google.colab.kernel.invokeFunction('convertToInteractive',\n",
              "                                                     [key], {});\n",
              "          if (!dataTable) return;\n",
              "\n",
              "          const docLinkHtml = 'Like what you see? Visit the ' +\n",
              "            '<a target=\"_blank\" href=https://colab.research.google.com/notebooks/data_table.ipynb>data table notebook</a>'\n",
              "            + ' to learn more about interactive tables.';\n",
              "          element.innerHTML = '';\n",
              "          dataTable['output_type'] = 'display_data';\n",
              "          await google.colab.output.renderOutput(dataTable, element);\n",
              "          const docLink = document.createElement('div');\n",
              "          docLink.innerHTML = docLinkHtml;\n",
              "          element.appendChild(docLink);\n",
              "        }\n",
              "      </script>\n",
              "    </div>\n",
              "  </div>\n",
              "  "
            ]
          },
          "metadata": {},
          "execution_count": 17
        }
      ]
    },
    {
      "cell_type": "code",
      "source": [
        "tokenizer = Tokenizer(num_words=len(vocab), split=' ') \n",
        "tokenizer.fit_on_texts(tweets['p_tweet'].values)\n",
        "X = tokenizer.texts_to_sequences(tweets['p_tweet'])\n",
        "X=pad_sequences(X)\n"
      ],
      "metadata": {
        "id": "M284wdYzoM2O"
      },
      "execution_count": 18,
      "outputs": []
    },
    {
      "cell_type": "code",
      "source": [
        "len(X[0])"
      ],
      "metadata": {
        "colab": {
          "base_uri": "https://localhost:8080/"
        },
        "id": "XDoZ3Hditt1b",
        "outputId": "19495226-a050-4bd2-9900-896bbe7f6df5"
      },
      "execution_count": 37,
      "outputs": [
        {
          "output_type": "execute_result",
          "data": {
            "text/plain": [
              "1185"
            ]
          },
          "metadata": {},
          "execution_count": 37
        }
      ]
    },
    {
      "cell_type": "code",
      "source": [
        "Y=tweets['sentiment'].to_list()\n",
        "Y=np.array(Y)"
      ],
      "metadata": {
        "id": "0hUvVyThsisM"
      },
      "execution_count": 32,
      "outputs": []
    },
    {
      "cell_type": "code",
      "source": [
        "embeding_dim=128\n",
        "lstm_out=196\n",
        "model = Sequential()\n",
        "model.add(Embedding(input_dim=len(vocab),output_dim=embeding_dim,input_length = 1185))\n",
        "model.add(LSTM(lstm_out, dropout=0.2, recurrent_dropout=0.2))\n",
        "model.add(Dense(1,activation='sigmoid'))"
      ],
      "metadata": {
        "colab": {
          "base_uri": "https://localhost:8080/"
        },
        "id": "dpA4YlU2sstB",
        "outputId": "8f918f4e-4ef8-41b8-bf0f-118878445230"
      },
      "execution_count": 38,
      "outputs": [
        {
          "output_type": "stream",
          "name": "stderr",
          "text": [
            "WARNING:tensorflow:Layer lstm_1 will not use cuDNN kernels since it doesn't meet the criteria. It will use a generic GPU kernel as fallback when running on GPU.\n"
          ]
        }
      ]
    },
    {
      "cell_type": "code",
      "source": [
        "model.compile(loss = 'binary_crossentropy', optimizer='adam',metrics = ['accuracy'])"
      ],
      "metadata": {
        "id": "BCjzEGDdtNEf"
      },
      "execution_count": 39,
      "outputs": []
    },
    {
      "cell_type": "code",
      "source": [
        "from sklearn.model_selection import train_test_split\n",
        "X_train, X_test, y_train, y_test = train_test_split(X,Y, test_size = 0.15, random_state = 42)"
      ],
      "metadata": {
        "id": "XaAMZqcbtRz4"
      },
      "execution_count": 33,
      "outputs": []
    },
    {
      "cell_type": "code",
      "source": [
        "model.fit(X_train, y_train,validation_data = (X_test,y_test),epochs = 1, batch_size=32)"
      ],
      "metadata": {
        "colab": {
          "base_uri": "https://localhost:8080/"
        },
        "id": "XcptiDOutVen",
        "outputId": "e30f0e66-1774-4cd7-a4f3-e9366aca2c78"
      },
      "execution_count": 40,
      "outputs": [
        {
          "output_type": "stream",
          "name": "stdout",
          "text": [
            "266/266 [==============================] - 1378s 5s/step - loss: 0.4891 - accuracy: 0.7628 - val_loss: 0.3488 - val_accuracy: 0.8587\n"
          ]
        },
        {
          "output_type": "execute_result",
          "data": {
            "text/plain": [
              "<keras.callbacks.History at 0x7f4000e2dc40>"
            ]
          },
          "metadata": {},
          "execution_count": 40
        }
      ]
    },
    {
      "cell_type": "code",
      "source": [
        "model.save('movie_sentiment_model.h5')"
      ],
      "metadata": {
        "id": "e4vsnQZgtZKB"
      },
      "execution_count": 41,
      "outputs": []
    },
    {
      "cell_type": "code",
      "source": [
        "test_tweet=tweets['review'][0]"
      ],
      "metadata": {
        "id": "h_LnM41RzZ0L"
      },
      "execution_count": 43,
      "outputs": []
    },
    {
      "cell_type": "code",
      "source": [
        "test_tweet"
      ],
      "metadata": {
        "colab": {
          "base_uri": "https://localhost:8080/",
          "height": 140
        },
        "id": "z6SKg5ebzjkp",
        "outputId": "f78da919-261b-4a12-d6dc-caa9b8ef828e"
      },
      "execution_count": 76,
      "outputs": [
        {
          "output_type": "execute_result",
          "data": {
            "text/plain": [
              "\"Okay, I know this does'nt project India in a good light. But the overall theme of the movie is not India, it's Shakti. The power of a warlord, and the power of a mother. The relationship between Nandini and her husband and son swallow you up in their warmth. Then things go terribly wrong. The interaction between Nandini and her father in law - the power of their dysfunctional relationship - and the lives changed by it are the strengths of this movie. Shah Rukh Khan's performance seems to be a mere cameo compared to the believable desperation of Karisma Kapoor. It is easy to get caught up in the love, violence and redemption of lives in this film, and find yourself heaving a sigh of relief and sadness at the climax. The musical interludes are strengths, believable and well done.\""
            ],
            "application/vnd.google.colaboratory.intrinsic+json": {
              "type": "string"
            }
          },
          "metadata": {},
          "execution_count": 76
        }
      ]
    },
    {
      "cell_type": "code",
      "source": [
        "processed_tweet=process_tweet(test_tweet)\n",
        "processed_tweet"
      ],
      "metadata": {
        "colab": {
          "base_uri": "https://localhost:8080/"
        },
        "id": "vVrgAdZhzr2Z",
        "outputId": "036043ba-2c31-4509-aac5-212d91fdfbb9"
      },
      "execution_count": 77,
      "outputs": [
        {
          "output_type": "execute_result",
          "data": {
            "text/plain": [
              "['okay',\n",
              " 'know',\n",
              " \"does'nt\",\n",
              " 'project',\n",
              " 'india',\n",
              " 'good',\n",
              " 'light',\n",
              " 'overal',\n",
              " 'theme',\n",
              " 'movi',\n",
              " 'india',\n",
              " 'shakti',\n",
              " 'power',\n",
              " 'warlord',\n",
              " 'power',\n",
              " 'mother',\n",
              " 'relationship',\n",
              " 'nandini',\n",
              " 'husband',\n",
              " 'son',\n",
              " 'swallow',\n",
              " 'warmth',\n",
              " 'thing',\n",
              " 'go',\n",
              " 'terribl',\n",
              " 'wrong',\n",
              " 'interact',\n",
              " 'nandini',\n",
              " 'father',\n",
              " 'law',\n",
              " 'power',\n",
              " 'dysfunct',\n",
              " 'relationship',\n",
              " 'live',\n",
              " 'chang',\n",
              " 'strength',\n",
              " 'movi',\n",
              " 'shah',\n",
              " 'rukh',\n",
              " \"khan'\",\n",
              " 'perform',\n",
              " 'seem',\n",
              " 'mere',\n",
              " 'cameo',\n",
              " 'compar',\n",
              " 'believ',\n",
              " 'desper',\n",
              " 'karisma',\n",
              " 'kapoor',\n",
              " 'easi',\n",
              " 'get',\n",
              " 'caught',\n",
              " 'love',\n",
              " 'violenc',\n",
              " 'redempt',\n",
              " 'live',\n",
              " 'film',\n",
              " 'find',\n",
              " 'heav',\n",
              " 'sigh',\n",
              " 'relief',\n",
              " 'sad',\n",
              " 'climax',\n",
              " 'music',\n",
              " 'interlud',\n",
              " 'strength',\n",
              " 'believ',\n",
              " 'well',\n",
              " 'done']"
            ]
          },
          "metadata": {},
          "execution_count": 77
        }
      ]
    },
    {
      "cell_type": "code",
      "source": [
        "Pro_seq_tweet=tokenizer.texts_to_sequences(processed_tweet)\n",
        "Pro_seq_tweet"
      ],
      "metadata": {
        "colab": {
          "base_uri": "https://localhost:8080/"
        },
        "id": "iHpndInhz-Dj",
        "outputId": "aacbfe48-0b2e-42f6-c776-ae3cd6cd94b5"
      },
      "execution_count": 80,
      "outputs": [
        {
          "output_type": "execute_result",
          "data": {
            "text/plain": [
              "[[788],\n",
              " [38],\n",
              " [11297],\n",
              " [791],\n",
              " [2177],\n",
              " [7],\n",
              " [381],\n",
              " [354],\n",
              " [452],\n",
              " [2],\n",
              " [2177],\n",
              " [8938],\n",
              " [318],\n",
              " [19270],\n",
              " [318],\n",
              " [377],\n",
              " [431],\n",
              " [16020],\n",
              " [573],\n",
              " [403],\n",
              " [3769],\n",
              " [3918],\n",
              " [35],\n",
              " [30],\n",
              " [247],\n",
              " [289],\n",
              " [1703],\n",
              " [16020],\n",
              " [305],\n",
              " [1137],\n",
              " [318],\n",
              " [3615],\n",
              " [431],\n",
              " [78],\n",
              " [273],\n",
              " [1434],\n",
              " [2],\n",
              " [6871],\n",
              " [5846],\n",
              " [9552],\n",
              " [60],\n",
              " [40],\n",
              " [987],\n",
              " [1460],\n",
              " [523],\n",
              " [83],\n",
              " [967],\n",
              " [19271],\n",
              " [5011],\n",
              " [754],\n",
              " [10],\n",
              " [964],\n",
              " [28],\n",
              " [556],\n",
              " [2614],\n",
              " [78],\n",
              " [3],\n",
              " [59],\n",
              " [16021],\n",
              " [5012],\n",
              " [2154],\n",
              " [522],\n",
              " [1239],\n",
              " [75],\n",
              " [7521],\n",
              " [1434],\n",
              " [83],\n",
              " [20],\n",
              " [155]]"
            ]
          },
          "metadata": {},
          "execution_count": 80
        }
      ]
    },
    {
      "cell_type": "code",
      "source": [
        "input_review=[]\n",
        "for i in Pro_seq_tweet:\n",
        "  input_review.append(i[0])\n",
        "input_review"
      ],
      "metadata": {
        "colab": {
          "base_uri": "https://localhost:8080/"
        },
        "id": "dVtT9YhC2UnD",
        "outputId": "7749d02f-1a22-4c63-8156-27e2ee5095ba"
      },
      "execution_count": 81,
      "outputs": [
        {
          "output_type": "execute_result",
          "data": {
            "text/plain": [
              "[788,\n",
              " 38,\n",
              " 11297,\n",
              " 791,\n",
              " 2177,\n",
              " 7,\n",
              " 381,\n",
              " 354,\n",
              " 452,\n",
              " 2,\n",
              " 2177,\n",
              " 8938,\n",
              " 318,\n",
              " 19270,\n",
              " 318,\n",
              " 377,\n",
              " 431,\n",
              " 16020,\n",
              " 573,\n",
              " 403,\n",
              " 3769,\n",
              " 3918,\n",
              " 35,\n",
              " 30,\n",
              " 247,\n",
              " 289,\n",
              " 1703,\n",
              " 16020,\n",
              " 305,\n",
              " 1137,\n",
              " 318,\n",
              " 3615,\n",
              " 431,\n",
              " 78,\n",
              " 273,\n",
              " 1434,\n",
              " 2,\n",
              " 6871,\n",
              " 5846,\n",
              " 9552,\n",
              " 60,\n",
              " 40,\n",
              " 987,\n",
              " 1460,\n",
              " 523,\n",
              " 83,\n",
              " 967,\n",
              " 19271,\n",
              " 5011,\n",
              " 754,\n",
              " 10,\n",
              " 964,\n",
              " 28,\n",
              " 556,\n",
              " 2614,\n",
              " 78,\n",
              " 3,\n",
              " 59,\n",
              " 16021,\n",
              " 5012,\n",
              " 2154,\n",
              " 522,\n",
              " 1239,\n",
              " 75,\n",
              " 7521,\n",
              " 1434,\n",
              " 83,\n",
              " 20,\n",
              " 155]"
            ]
          },
          "metadata": {},
          "execution_count": 81
        }
      ]
    },
    {
      "cell_type": "code",
      "source": [
        "input_review1=pad_sequences([input_review],maxlen=1185)"
      ],
      "metadata": {
        "id": "CR3NVoph0tNk"
      },
      "execution_count": 83,
      "outputs": []
    },
    {
      "cell_type": "code",
      "source": [
        "model.predict(input_review1)"
      ],
      "metadata": {
        "colab": {
          "base_uri": "https://localhost:8080/"
        },
        "id": "UcEpM7495DgS",
        "outputId": "182ce126-ab9a-4330-8285-1d40adfb92e7"
      },
      "execution_count": 84,
      "outputs": [
        {
          "output_type": "stream",
          "name": "stdout",
          "text": [
            "1/1 [==============================] - 0s 306ms/step\n"
          ]
        },
        {
          "output_type": "execute_result",
          "data": {
            "text/plain": [
              "array([[0.8866404]], dtype=float32)"
            ]
          },
          "metadata": {},
          "execution_count": 84
        }
      ]
    },
    {
      "cell_type": "code",
      "source": [
        "def review_list(review):\n",
        "  input_review=[]\n",
        "  for i in review:\n",
        "    input_review.append(i[0])\n",
        "  return input_review\n",
        "\n",
        "def pos_neg(pred):\n",
        "  if pred>0.5:\n",
        "    return \"positive review\"\n",
        "  else:\n",
        "    return \"negative review\""
      ],
      "metadata": {
        "id": "-JmqPYk454bK"
      },
      "execution_count": 92,
      "outputs": []
    },
    {
      "cell_type": "code",
      "source": [
        "review=\"The Movie was good, i loved it!!\"\n",
        "pro_review=process_tweet(review)\n",
        "pro_seq_review=tokenizer.texts_to_sequences(pro_review)\n",
        "input_review=review_list(pro_seq_review)\n",
        "pad_pro_seq=pad_sequences([input_review],maxlen=1185)\n",
        "\n",
        "\n",
        "pred=model.predict(pad_pro_seq)\n",
        "print(\"Prediction score\",pred[0][0])\n",
        "\n",
        "print()\n",
        "print()\n",
        "print(\"Review: \",review)\n",
        "print(\"Predicted review: \",pos_neg(pred[0][0]))\n"
      ],
      "metadata": {
        "colab": {
          "base_uri": "https://localhost:8080/"
        },
        "id": "jq2NepA95U-F",
        "outputId": "c69963b9-fb5a-4312-ae07-2f3aa6dbb7db"
      },
      "execution_count": 97,
      "outputs": [
        {
          "output_type": "stream",
          "name": "stdout",
          "text": [
            "1/1 [==============================] - 0s 315ms/step\n",
            "Prediction score 0.78559446\n",
            "\n",
            "\n",
            "Review:  The Movie was good, i loved it!!\n",
            "Predicted review:  positive review\n"
          ]
        }
      ]
    },
    {
      "cell_type": "code",
      "source": [
        "review=\"The Movie was bad, it was a waste of time!!\"\n",
        "pro_review=process_tweet(review)\n",
        "pro_seq_review=tokenizer.texts_to_sequences(pro_review)\n",
        "input_review=review_list(pro_seq_review)\n",
        "pad_pro_seq=pad_sequences([input_review],maxlen=1185)\n",
        "\n",
        "\n",
        "pred=model.predict(pad_pro_seq)\n",
        "print(\"Prediction score\",pred[0][0])\n",
        "\n",
        "print()\n",
        "print()\n",
        "print(\"Review: \",review)\n",
        "print(\"Predicted review: \",pos_neg(pred[0][0]))\n"
      ],
      "metadata": {
        "colab": {
          "base_uri": "https://localhost:8080/"
        },
        "id": "t7HMQdqV5U63",
        "outputId": "4040a297-1d99-4bd1-d476-993890edb8d9"
      },
      "execution_count": 96,
      "outputs": [
        {
          "output_type": "stream",
          "name": "stdout",
          "text": [
            "1/1 [==============================] - 0s 310ms/step\n",
            "Prediction score 0.042357087\n",
            "\n",
            "\n",
            "Review:  The Movie was bad, it was a waste of time!!\n",
            "Predicted review:  negative review\n"
          ]
        }
      ]
    },
    {
      "cell_type": "code",
      "source": [],
      "metadata": {
        "id": "EolGno3J5U4Z"
      },
      "execution_count": null,
      "outputs": []
    },
    {
      "cell_type": "markdown",
      "source": [
        "model prediction for top 6 test  tweets"
      ],
      "metadata": {
        "id": "kxLWuq6v2Bwl"
      }
    },
    {
      "cell_type": "code",
      "source": [
        "model.predict(X_test[0:6])"
      ],
      "metadata": {
        "colab": {
          "base_uri": "https://localhost:8080/"
        },
        "id": "i_uahjqp1QEB",
        "outputId": "ad569fd5-c4a8-4b35-ca72-774a3460c201"
      },
      "execution_count": 63,
      "outputs": [
        {
          "output_type": "stream",
          "name": "stdout",
          "text": [
            "1/1 [==============================] - 0s 370ms/step\n"
          ]
        },
        {
          "output_type": "execute_result",
          "data": {
            "text/plain": [
              "array([[0.9643904 ],\n",
              "       [0.01140774],\n",
              "       [0.257417  ],\n",
              "       [0.87569344],\n",
              "       [0.02030325],\n",
              "       [0.07362368]], dtype=float32)"
            ]
          },
          "metadata": {},
          "execution_count": 63
        }
      ]
    },
    {
      "cell_type": "code",
      "source": [],
      "metadata": {
        "id": "3mYYjmHl3nb7"
      },
      "execution_count": null,
      "outputs": []
    }
  ]
}